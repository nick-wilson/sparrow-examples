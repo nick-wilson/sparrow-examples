{
 "cells": [
  {
   "cell_type": "code",
   "execution_count": 1,
   "id": "acb5f337-6c7a-4be9-955c-dff37aedb65b",
   "metadata": {},
   "outputs": [],
   "source": [
    "import os\n",
    "import sys\n",
    "import getpass"
   ]
  },
  {
   "cell_type": "code",
   "execution_count": 2,
   "id": "d114b5e3-af49-40d0-bf51-72f5fdb2ddd5",
   "metadata": {
    "tags": []
   },
   "outputs": [
    {
     "name": "stdout",
     "output_type": "stream",
     "text": [
      "Collecting package metadata (current_repodata.json): done\n",
      "Solving environment: done\n",
      "\n",
      "\n",
      "==> WARNING: A newer version of conda exists. <==\n",
      "  current version: 4.14.0\n",
      "  latest version: 22.9.0\n",
      "\n",
      "Please update conda by running\n",
      "\n",
      "    $ conda update -n base -c conda-forge conda\n",
      "\n",
      "\n",
      "\n",
      "## Package Plan ##\n",
      "\n",
      "  environment location: /home/jovyan/my-conda-envs/persistent\n",
      "\n",
      "  added / updated specs:\n",
      "    - sshpass\n",
      "\n",
      "\n",
      "The following NEW packages will be INSTALLED:\n",
      "\n",
      "  sshpass            conda-forge/linux-64::sshpass-1.06-h516909a_0\n",
      "\n",
      "\n",
      "Preparing transaction: done\n",
      "Verifying transaction: done\n",
      "Executing transaction: done\n",
      "Retrieving notices: ...working... done\n"
     ]
    }
   ],
   "source": [
    "# Install a conda package in the current Jupyter kernel\n",
    "!type sshpass > /dev/null 2>&1 || conda install -y --prefix {sys.prefix} sshpass"
   ]
  },
  {
   "cell_type": "code",
   "execution_count": 3,
   "id": "beffd36d-4033-4551-a74f-4314bc0028ed",
   "metadata": {},
   "outputs": [
    {
     "name": "stdout",
     "output_type": "stream",
     "text": [
      "SCW username: c.xxxxxx\n"
     ]
    }
   ],
   "source": [
    "scw_username=os.environ['JUPYTERHUB_USER']\n",
    "print(\"SCW username: \"+scw_username)"
   ]
  },
  {
   "cell_type": "raw",
   "id": "2fcc2eae-3950-4c06-8a13-2eed49974a7d",
   "metadata": {},
   "source": [
    "print(\"Enter SCW username:\")\n",
    "scw_username=input()"
   ]
  },
  {
   "cell_type": "code",
   "execution_count": 5,
   "id": "f85952d3-f317-4c23-90c0-ecd41954df54",
   "metadata": {},
   "outputs": [
    {
     "name": "stdout",
     "output_type": "stream",
     "text": [
      "Enter SCW password:\n"
     ]
    },
    {
     "name": "stdin",
     "output_type": "stream",
     "text": [
      " ········\n"
     ]
    },
    {
     "name": "stdout",
     "output_type": "stream",
     "text": [
      "/usr/bin/ssh-copy-id: INFO: Source of key(s) to be installed: \"/home/jovyan/.ssh/id_rsa_sjef.pub\"\n",
      "/usr/bin/ssh-copy-id: INFO: attempting to log in with the new key(s), to filter out any that are already installed\n",
      "/usr/bin/ssh-copy-id: INFO: 1 key(s) remain to be installed -- if you are prompted now it is to install the new keys\n",
      "\n",
      "Number of key(s) added: 1\n",
      "\n",
      "Now try logging into the machine, with:   \"ssh 'c.xxxxxx@hawklogin.cf.ac.uk'\"\n",
      "and check to make sure that only the key(s) you wanted were added.\n",
      "\n"
     ]
    }
   ],
   "source": [
    "print(\"Enter SCW password:\")\n",
    "!printf \"{getpass.getpass()}\\n\" | sshpass ssh-copy-id {scw_username}@hawklogin.cf.ac.uk"
   ]
  },
  {
   "cell_type": "code",
   "execution_count": 6,
   "id": "18d37845-776a-4ace-991a-e2a0e78ec50c",
   "metadata": {},
   "outputs": [
    {
     "name": "stdout",
     "output_type": "stream",
     "text": [
      "\n",
      "Host hawklogin.cf.ac.uk\n",
      " User c.xxxxxx\n"
     ]
    }
   ],
   "source": [
    "# Add SCW username to ssh config file\n",
    "import os\n",
    "ssh_config = open(os.environ['HOME']+\"/.ssh/config\", \"a\")\n",
    "ssh_config.write(\"\\n\")\n",
    "ssh_config.write(\"Host hawklogin.cf.ac.uk\\n\")\n",
    "ssh_config.write(\" User \" + scw_username + \"\\n\")\n",
    "ssh_config.close()\n",
    "!cat ~/.ssh/config"
   ]
  },
  {
   "cell_type": "code",
   "execution_count": 7,
   "id": "cb0212b2-b2c2-4bb6-ab60-e06420350c45",
   "metadata": {},
   "outputs": [
    {
     "name": "stdout",
     "output_type": "stream",
     "text": [
      "             JOBID PARTITION     NAME     USER ST       TIME  NODES NODELIST(REASON)\n"
     ]
    }
   ],
   "source": [
    "!ssh hawklogin.cf.ac.uk squeue -u {scw_username}"
   ]
  }
 ],
 "metadata": {
  "kernelspec": {
   "display_name": "Python 3 (ipykernel)",
   "language": "python",
   "name": "python3"
  },
  "language_info": {
   "codemirror_mode": {
    "name": "ipython",
    "version": 3
   },
   "file_extension": ".py",
   "mimetype": "text/x-python",
   "name": "python",
   "nbconvert_exporter": "python",
   "pygments_lexer": "ipython3",
   "version": "3.10.6"
  }
 },
 "nbformat": 4,
 "nbformat_minor": 5
}
