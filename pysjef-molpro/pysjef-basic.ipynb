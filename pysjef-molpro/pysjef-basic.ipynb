{
 "cells": [
  {
   "cell_type": "code",
   "execution_count": null,
   "id": "0ad53cc0-dd00-44f3-9f65-f857805997ad",
   "metadata": {},
   "outputs": [],
   "source": [
    "from pysjef import Project \n",
    "import pymolpro"
   ]
  },
  {
   "cell_type": "code",
   "execution_count": null,
   "id": "1e93f709-a9f6-4c9e-88f2-a1de56df2074",
   "metadata": {},
   "outputs": [],
   "source": [
    "p=Project(\"helium\")"
   ]
  },
  {
   "cell_type": "code",
   "execution_count": null,
   "id": "56340fe5-db14-46cb-93db-32b5b0681914",
   "metadata": {},
   "outputs": [],
   "source": [
    "p.write_input(\n",
    "f\"\"\"geometry={{he}}\n",
    "basis = cc-pVTZ\n",
    "rhf;ccsd\n",
    "\"\"\")"
   ]
  },
  {
   "cell_type": "code",
   "execution_count": null,
   "id": "9d45e27a-43ea-4d5b-a45c-8a001fa2dc80",
   "metadata": {},
   "outputs": [],
   "source": [
    "p.run(backend=\"hawk\",force=True,wait=True,verbosity=4)"
   ]
  },
  {
   "cell_type": "code",
   "execution_count": null,
   "id": "9b8e0eb5-6829-4965-86bd-f21bead428f6",
   "metadata": {},
   "outputs": [],
   "source": [
    "p.run(backend=\"local\",force=True,wait=True,verbosity=4)"
   ]
  },
  {
   "cell_type": "code",
   "execution_count": null,
   "id": "42185482-430f-4834-9ce5-f2ffc20284c1",
   "metadata": {},
   "outputs": [],
   "source": [
    "p.status()"
   ]
  },
  {
   "cell_type": "code",
   "execution_count": null,
   "id": "7cda2d00-b7d3-4e08-9192-67382663220a",
   "metadata": {},
   "outputs": [],
   "source": [
    "p.xml"
   ]
  }
 ],
 "metadata": {
  "kernelspec": {
   "display_name": "Python [conda env:root]",
   "language": "python",
   "name": "conda-root-py"
  },
  "language_info": {
   "codemirror_mode": {
    "name": "ipython",
    "version": 3
   },
   "file_extension": ".py",
   "mimetype": "text/x-python",
   "name": "python",
   "nbconvert_exporter": "python",
   "pygments_lexer": "ipython3",
   "version": "3.10.6"
  }
 },
 "nbformat": 4,
 "nbformat_minor": 5
}
