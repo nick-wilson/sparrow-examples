{
 "cells": [
  {
   "cell_type": "code",
   "execution_count": 1,
   "id": "0ad53cc0-dd00-44f3-9f65-f857805997ad",
   "metadata": {},
   "outputs": [],
   "source": [
    "from pysjef import Project \n",
    "import pymolpro"
   ]
  },
  {
   "cell_type": "code",
   "execution_count": 2,
   "id": "1e93f709-a9f6-4c9e-88f2-a1de56df2074",
   "metadata": {},
   "outputs": [],
   "source": [
    "p=Project(\"helium\")"
   ]
  },
  {
   "cell_type": "code",
   "execution_count": 3,
   "id": "56340fe5-db14-46cb-93db-32b5b0681914",
   "metadata": {},
   "outputs": [],
   "source": [
    "p.write_input(\n",
    "f\"\"\"geometry={{he}}\n",
    "basis = cc-pVTZ\n",
    "rhf;ccsd\n",
    "\"\"\")"
   ]
  },
  {
   "cell_type": "code",
   "execution_count": 4,
   "id": "9d45e27a-43ea-4d5b-a45c-8a001fa2dc80",
   "metadata": {},
   "outputs": [
    {
     "name": "stdout",
     "output_type": "stream",
     "text": [
      "Project::run() run_needed()=, time 0\n",
      "inpfile \"/home/jovyan/work/sparrow-examples/pysjef-molpro/helium.molpro/helium.inp\"\n",
      "xmlfile \"/home/jovyan/work/sparrow-examples/pysjef-molpro/helium.molpro/run/4.molpro/4.xml\"\n",
      ", time 3\n",
      "sjef::Project::run_needed, input file exists ?=1\n",
      ", time 3\n",
      "sjef::Project::run_needed, xml file exists ?=1\n",
      ", time 3\n",
      "sjef::Project::run_needed, time after initial checks 3\n",
      "before property_get, time 3\n",
      "after property_get, time 3\n",
      "sjef::Project::run_needed, input_hash =6090662993040948142\n",
      "sjef::Project::run_needed, run_input_hash =6090662993040948142\n",
      "sjef::Project::run_needed, input hash matches ?=1\n",
      "sjef::Project::run_needed returning false\n",
      "ending, time 3\n",
      "0\n",
      "new run directory 5\n",
      "run job, backend=hawk\n",
      "initial run_command /home/c.sacnw3/software/molpro/bin/qmolpro -P scw1323 -t 60 -n 1   -q htc\n",
      "run job /home/c.sacnw3/software/molpro/bin/qmolpro '-P' 'scw1323' '-t' '60' '-n' '1' '-q' 'htc' -v 5.inp\n",
      "scratch/sjef-project/338593470538168334\n",
      "Job::run() command=/home/c.sacnw3/software/molpro/bin/qmolpro '-P' 'scw1323' '-t' '60' '-n' '1' '-q' 'htc' -v 5.inp\n",
      "Push rsync: rsync --archive --copy-links --timeout=5 --protect-args -v --rsync-path=/usr/bin/rsync --exclude=Info.plist --exclude=.Info.plist.writing_object --rsh 'ssh -o ControlPath=~/.ssh/sjef-control-%h-%p-%r -o ControlMaster=auto -o ControlPersist=300' '/home/jovyan/work/sparrow-examples/pysjef-molpro/helium.molpro/run/5.molpro/' hawklogin.cf.ac.uk:'scratch/sjef-project/338593470538168334' -v\n",
      "Command::operator() rsync --archive --copy-links --timeout=5 --protect-args -v --rsync-path=/usr/bin/rsync --exclude=Info.plist --exclude=.Info.plist.writing_object --rsh 'ssh -o ControlPath=~/.ssh/sjef-control-%h-%p-%r -o ControlMaster=auto -o ControlPersist=300' '/home/jovyan/work/sparrow-examples/pysjef-molpro/helium.molpro/run/5.molpro/' hawklogin.cf.ac.uk:'scratch/sjef-project/338593470538168334' -v\n",
      "Command::operator() m_host=localhost, wait=1, localhost()=1\n",
      "Command::operator() pipeline=rsync --archive --copy-links --timeout=5 --protect-args -v --rsync-path=/usr/bin/rsync --exclude=Info.plist --exclude=.Info.plist.writing_object --rsh 'ssh -o ControlPath=~/.ssh/sjef-control-%h-%p-%r -o ControlMaster=auto -o ControlPersist=300' '/home/jovyan/work/sparrow-examples/pysjef-molpro/helium.molpro/run/5.molpro/' hawklogin.cf.ac.uk:'scratch/sjef-project/338593470538168334' -v\n",
      "launching local process\n",
      "out line from command opening connection using: ssh -o \"ControlPath=~/.ssh/sjef-control-%h-%p-%r\" -o ControlMaster=auto -o ControlPersist=300 hawklogin.cf.ac.uk /usr/bin/rsync --server -svvlogDtpre.iLsfxCIvu  (11 args)\n",
      "out line from command protected args: --timeout=5 . scratch/sjef-project/338593470538168334  (3 args)\n",
      "out line from command sending incremental file list\n",
      "out line from command [sender] hiding file Info.plist because of pattern Info.plist\n",
      "out line from command [sender] hiding file .Info.plist.writing_object because of pattern .Info.plist.writing_object\n",
      "out line from command delta-transmission enabled\n",
      "out line from command ./\n",
      "out line from command .lock\n",
      "out line from command .molpro.rc.lock\n",
      "out line from command 5.inp\n",
      "out line from command 5.lock\n",
      "out line from command molpro.rc\n",
      "out line from command total: matches=0  hash_hits=0  false_alarms=0 data=64\n",
      "out line from command \n",
      "out line from command sent 427 bytes  received 145 bytes  1,144.00 bytes/sec\n",
      "out line from command total size is 64  speedup is 0.11\n",
      "out from command rsync --archive --copy-links --timeout=5 --protect-args -v --rsync-path=/usr/bin/rsync --exclude=Info.plist --exclude=.Info.plist.writing_object --rsh 'ssh -o ControlPath=~/.ssh/sjef-control-%h-%p-%r -o ControlMaster=auto -o ControlPersist=300' '/home/jovyan/work/sparrow-examples/pysjef-molpro/helium.molpro/run/5.molpro/' hawklogin.cf.ac.uk:'scratch/sjef-project/338593470538168334' -v:\n",
      "opening connection using: ssh -o \"ControlPath=~/.ssh/sjef-control-%h-%p-%r\" -o ControlMaster=auto -o ControlPersist=300 hawklogin.cf.ac.uk /usr/bin/rsync --server -svvlogDtpre.iLsfxCIvu  (11 args)\n",
      "protected args: --timeout=5 . scratch/sjef-project/338593470538168334  (3 args)\n",
      "sending incremental file list\n",
      "[sender] hiding file Info.plist because of pattern Info.plist\n",
      "[sender] hiding file .Info.plist.writing_object because of pattern .Info.plist.writing_object\n",
      "delta-transmission enabled\n",
      "./\n",
      ".lock\n",
      ".molpro.rc.lock\n",
      "5.inp\n",
      "5.lock\n",
      "molpro.rc\n",
      "total: matches=0  hash_hits=0  false_alarms=0 data=64\n",
      "\n",
      "sent 427 bytes  received 145 bytes  1,144.00 bytes/sec\n",
      "total size is 64  speedup is 0.11\n",
      "\n",
      "err from command rsync --archive --copy-links --timeout=5 --protect-args -v --rsync-path=/usr/bin/rsync --exclude=Info.plist --exclude=.Info.plist.writing_object --rsh 'ssh -o ControlPath=~/.ssh/sjef-control-%h-%p-%r -o ControlMaster=auto -o ControlPersist=300' '/home/jovyan/work/sparrow-examples/pysjef-molpro/helium.molpro/run/5.molpro/' hawklogin.cf.ac.uk:'scratch/sjef-project/338593470538168334' -v:\n",
      "\n",
      "time for push_rundir() rsync 1314ms\n",
      "Push rsync: rsync --archive --copy-links --timeout=5 --protect-args -v --rsync-path=/usr/bin/rsync --exclude=Info.plist --exclude=.Info.plist.writing_object --rsh 'ssh -o ControlPath=~/.ssh/sjef-control-%h-%p-%r -o ControlMaster=auto -o ControlPersist=300' '/home/jovyan/work/sparrow-examples/pysjef-molpro/helium.molpro/run/5.molpro/' hawklogin.cf.ac.uk:'scratch/sjef-project/338593470538168334' -v\n",
      "Command::operator() rsync --archive --copy-links --timeout=5 --protect-args -v --rsync-path=/usr/bin/rsync --exclude=Info.plist --exclude=.Info.plist.writing_object --rsh 'ssh -o ControlPath=~/.ssh/sjef-control-%h-%p-%r -o ControlMaster=auto -o ControlPersist=300' '/home/jovyan/work/sparrow-examples/pysjef-molpro/helium.molpro/run/5.molpro/' hawklogin.cf.ac.uk:'scratch/sjef-project/338593470538168334' -v\n",
      "Command::operator() m_host=localhost, wait=1, localhost()=1\n",
      "Command::operator() pipeline=rsync --archive --copy-links --timeout=5 --protect-args -v --rsync-path=/usr/bin/rsync --exclude=Info.plist --exclude=.Info.plist.writing_object --rsh 'ssh -o ControlPath=~/.ssh/sjef-control-%h-%p-%r -o ControlMaster=auto -o ControlPersist=300' '/home/jovyan/work/sparrow-examples/pysjef-molpro/helium.molpro/run/5.molpro/' hawklogin.cf.ac.uk:'scratch/sjef-project/338593470538168334' -v\n",
      "launching local process\n",
      "out line from command opening connection using: ssh -o \"ControlPath=~/.ssh/sjef-control-%h-%p-%r\" -o ControlMaster=auto -o ControlPersist=300 hawklogin.cf.ac.uk /usr/bin/rsync --server -svvlogDtpre.iLsfxCIvu  (11 args)\n",
      "out line from command protected args: --timeout=5 . scratch/sjef-project/338593470538168334  (3 args)\n",
      "out line from command sending incremental file list\n",
      "out line from command [sender] hiding file Info.plist because of pattern Info.plist\n",
      "out line from command [sender] hiding file .Info.plist.writing_object because of pattern .Info.plist.writing_object\n",
      "out line from command delta-transmission enabled\n",
      "out line from command .lock is uptodate\n",
      "out line from command .molpro.rc.lock is uptodate\n",
      "out line from command 5.inp is uptodate\n",
      "out line from command 5.lock is uptodate\n",
      "out line from command molpro.rc is uptodate\n",
      "out line from command total: matches=0  hash_hits=0  false_alarms=0 data=0\n",
      "out line from command \n",
      "out line from command sent 171 bytes  received 186 bytes  238.00 bytes/sec\n",
      "out line from command total size is 64  speedup is 0.18\n",
      "out from command rsync --archive --copy-links --timeout=5 --protect-args -v --rsync-path=/usr/bin/rsync --exclude=Info.plist --exclude=.Info.plist.writing_object --rsh 'ssh -o ControlPath=~/.ssh/sjef-control-%h-%p-%r -o ControlMaster=auto -o ControlPersist=300' '/home/jovyan/work/sparrow-examples/pysjef-molpro/helium.molpro/run/5.molpro/' hawklogin.cf.ac.uk:'scratch/sjef-project/338593470538168334' -v:\n",
      "opening connection using: ssh -o \"ControlPath=~/.ssh/sjef-control-%h-%p-%r\" -o ControlMaster=auto -o ControlPersist=300 hawklogin.cf.ac.uk /usr/bin/rsync --server -svvlogDtpre.iLsfxCIvu  (11 args)\n",
      "protected args: --timeout=5 . scratch/sjef-project/338593470538168334  (3 args)\n",
      "sending incremental file list\n",
      "[sender] hiding file Info.plist because of pattern Info.plist\n",
      "[sender] hiding file .Info.plist.writing_object because of pattern .Info.plist.writing_object\n",
      "delta-transmission enabled\n",
      ".lock is uptodate\n",
      ".molpro.rc.lock is uptodate\n",
      "5.inp is uptodate\n",
      "5.lock is uptodate\n",
      "molpro.rc is uptodate\n",
      "total: matches=0  hash_hits=0  false_alarms=0 data=0\n",
      "\n",
      "sent 171 bytes  received 186 bytes  238.00 bytes/sec\n",
      "total size is 64  speedup is 0.18\n",
      "\n",
      "err from command rsync --archive --copy-links --timeout=5 --protect-args -v --rsync-path=/usr/bin/rsync --exclude=Info.plist --exclude=.Info.plist.writing_object --rsh 'ssh -o ControlPath=~/.ssh/sjef-control-%h-%p-%r -o ControlMaster=auto -o ControlPersist=300' '/home/jovyan/work/sparrow-examples/pysjef-molpro/helium.molpro/run/5.molpro/' hawklogin.cf.ac.uk:'scratch/sjef-project/338593470538168334' -v:\n",
      "\n",
      "time for push_rundir() rsync 390ms\n",
      "Job::run() gives directory \"/home/jovyan/work/sparrow-examples/pysjef-molpro/helium.molpro/run/5.molpro\"\n",
      "before submit, m_backend_command_server? 0\n",
      "Command::operator() /home/c.sacnw3/software/molpro/bin/qmolpro '-P' 'scw1323' '-t' '60' '-n' '1' '-q' 'htc' -v 5.inp\n",
      "Command::operator() m_host=hawklogin.cf.ac.uk, wait=1, localhost()=0\n",
      "Command::operator() pipeline=/home/c.sacnw3/software/molpro/bin/qmolpro '-P' 'scw1323' '-t' '60' '-n' '1' '-q' 'htc' -v 5.inp\n",
      "out line from command QUEUE=htc\n",
      "out line from command MEMORY=582m\n",
      "out line from command TASKS_PER_NODE=1\n",
      "out line from command NOPTION=1\n",
      "out line from command Processors:       1\n",
      "out line from command Tasks per node:   1\n",
      "out line from command Memory:           582m\n",
      "out line from command Submitted batch job 46472441\n",
      "out from command /home/c.sacnw3/software/molpro/bin/qmolpro '-P' 'scw1323' '-t' '60' '-n' '1' '-q' 'htc' -v 5.inp:\n",
      "QUEUE=htc\n",
      "MEMORY=582m\n",
      "TASKS_PER_NODE=1\n",
      "NOPTION=1\n",
      "Processors:       1\n",
      "Tasks per node:   1\n",
      "Memory:           582m\n",
      "Submitted batch job 46472441\n",
      "\n",
      "err from command /home/c.sacnw3/software/molpro/bin/qmolpro '-P' 'scw1323' '-t' '60' '-n' '1' '-q' 'htc' -v 5.inp:\n",
      "\n",
      "Job::run backend_submits_batch m_job_number=46472441\n",
      "jobnumber 46472441\n"
     ]
    }
   ],
   "source": [
    "p.run(backend=\"hawk\",force=True,wait=True,verbosity=4)"
   ]
  },
  {
   "cell_type": "code",
   "execution_count": 5,
   "id": "9b8e0eb5-6829-4965-86bd-f21bead428f6",
   "metadata": {},
   "outputs": [
    {
     "name": "stdout",
     "output_type": "stream",
     "text": [
      "Project::run() run_needed()=, time 0\n",
      "inpfile \"/home/jovyan/work/sparrow-examples/pysjef-molpro/helium.molpro/helium.inp\"\n",
      "xmlfile \"/home/jovyan/work/sparrow-examples/pysjef-molpro/helium.molpro/run/5.molpro/5.xml\"\n",
      ", time 2\n",
      "sjef::Project::run_needed, input file exists ?=1\n",
      ", time 2\n",
      "sjef::Project::run_needed, xml file exists ?=1\n",
      ", time 2\n",
      "sjef::Project::run_needed, time after initial checks 2\n",
      "before property_get, time 2\n",
      "after property_get, time 2\n",
      "sjef::Project::run_needed, input_hash =6090662993040948142\n",
      "sjef::Project::run_needed, run_input_hash =6090662993040948142\n",
      "sjef::Project::run_needed, input hash matches ?=1\n",
      "sjef::Project::run_needed returning false\n",
      "ending, time 2\n",
      "0\n",
      "new run directory 6\n",
      "run job, backend=local\n",
      "initial run_command molpro    \n",
      "run job molpro -v 6.inp\n",
      "Job::run() command=molpro -v 6.inp\n",
      "Job::run() gives directory \"/home/jovyan/work/sparrow-examples/pysjef-molpro/helium.molpro/run/6.molpro\"\n",
      "before submit, m_backend_command_server? 0\n",
      "Command::operator() molpro -v 6.inp\n",
      "Command::operator() m_host=localhost, wait=0, localhost()=1\n",
      "Command::operator() pipeline=(( molpro -v 6.inp >6.stdout 2>6.stderr) & echo @@@JOBNUMBER $! 1>&2)\n",
      "launching local process\n",
      "out from command molpro -v 6.inp:\n",
      "\n",
      "err line from command @@@JOBNUMBER 18653\n",
      "err from command molpro -v 6.inp:\n",
      "\n",
      "before job_number(), m_backend_command_server? 0\n",
      "Job::run is_run_command m_job_number=18653\n",
      "jobnumber 18653\n"
     ]
    }
   ],
   "source": [
    "p.run(backend=\"local\",force=True,wait=True,verbosity=4)"
   ]
  },
  {
   "cell_type": "code",
   "execution_count": 6,
   "id": "42185482-430f-4834-9ce5-f2ffc20284c1",
   "metadata": {},
   "outputs": [
    {
     "data": {
      "text/plain": [
       "'completed'"
      ]
     },
     "execution_count": 6,
     "metadata": {},
     "output_type": "execute_result"
    }
   ],
   "source": [
    "p.status"
   ]
  },
  {
   "cell_type": "code",
   "execution_count": 7,
   "id": "7cda2d00-b7d3-4e08-9192-67382663220a",
   "metadata": {},
   "outputs": [
    {
     "data": {
      "text/plain": [
       "'<?xml version=\"1.0\"?>\\n<molpro xmlns=\"http://www.molpro.net/schema/molpro-output\"\\n  xmlns:xsd=\"http://www.w3.org/1999/XMLSchema\"\\n  xmlns:cml=\"http://www.xml-cml.org/schema\"\\n  xmlns:stm=\"http://www.xml-cml.org/schema\"\\n  xmlns:xhtml=\"http://www.w3.org/1999/xhtml\">\\n <job>\\n  <jobstep command=\"RHF-SCF\" commandset=\"SCFPRO\">\\n   <cml:molecule>\\n    <cml:symmetry pointGroup=\"D2h\">\\n     <cml:transform3 title=\"generator\" id=\"X\">\\n      -1  0  0  0  0  1  0  0  0  0  1  0  0  0  0  1\\n     </cml:transform3>\\n     <cml:transform3 title=\"generator\" id=\"Y\">\\n       1  0  0  0  0 -1  0  0  0  0  1  0  0  0  0  1\\n     </cml:transform3>\\n     <cml:transform3 title=\"generator\" id=\"Z\">\\n       1  0  0  0  0  1  0  0  0  0 -1  0  0  0  0  1\\n     </cml:transform3>\\n    </cml:symmetry>\\n    <cml:atomArray>\\n     <cml:atom id=\"a1\" elementType=\"He\" x3=\"0.0\" y3=\"0.0\" z3=\"0.0\"/>\\n    </cml:atomArray>\\n    <cml:bondArray>\\n    </cml:bondArray>\\n   </cml:molecule>\\n   <property name=\"Energy\" method=\"RHF\" principal=\"true\" stateSymmetry=\"1\" stateNumber=\"1\"\\n     value=\"-2.86115334478442\"/>\\n   <property name=\"One-electron energy\" method=\"RHF\" value=\"-3.88705653662919\"/>\\n   <property name=\"Two-electron energy\" method=\"RHF\" value=\"1.02590319184478\"/>\\n   <property name=\"Kinetic energy\" method=\"RHF\" value=\"2.86114962673733\"/>\\n   <property name=\"Nuclear energy\" method=\"RHF\" value=\"0.0\"/>\\n   <property name=\"Virial quotient\" method=\"RHF\" value=\"-1.00000129949411\"/>\\n   <property name=\"Dipole moment\" method=\"RHF\" principal=\"true\" stateSymmetry=\"1\"\\n     stateNumber=\"1\" value=\"0.0 0.0 0.0\"/>\\n   <time start=\"17:50:36\" end=\"17:50:37\" cpu=\"0.51\" system=\"0.2\" real=\"0.81\"/>\\n   <storage units=\"megabyte\" memory=\"0.0\" sf=\"0.0\" df=\"33.07\" eaf=\"0.0\"/>\\n   <summary overall_method=\"RHF/cc-pVTZ\"/>\\n  </jobstep>\\n  <jobstep command=\"CCSD\" commandset=\"CCSD\">\\n   <property name=\"energy\" method=\"Reference\" stateSymmetry=\"1\" stateNumber=\"1\"\\n     value=\"-2.86115334478442\"/>\\n   <property name=\"singlet pair energy\" method=\"CCSD\" stateSymmetry=\"1\" stateNumber=\"1\"\\n     value=\"-0.390788056120102E-01\"/>\\n   <property name=\"triplet pair energy\" method=\"CCSD\" stateSymmetry=\"1\" stateNumber=\"1\"\\n     value=\"0.0\"/>\\n   <property name=\"correlation energy\" method=\"CCSD\" stateSymmetry=\"1\" stateNumber=\"1\"\\n     value=\"-0.390788078046471E-01\"/>\\n   <property name=\"total energy\" method=\"CCSD\" principal=\"true\" stateSymmetry=\"1\"\\n     stateNumber=\"1\" value=\"-2.90023215258907\"/>\\n   <time start=\"17:50:37\" end=\"17:50:37\" cpu=\"0.09\" system=\"0.01\" real=\"0.1\"/>\\n   <storage units=\"megabyte\" memory=\"0.0\" sf=\"0.0\" df=\"33.07\" eaf=\"0.0\"/>\\n   <summary overall_method=\"CCSD/cc-pVTZ\"/>\\n  </jobstep>\\n  <stm:metadataList>\\n   <stm:metadata name=\"dc:date\" content=\"2022-10-13T17:50:37+00:00\"/>\\n   <stm:metadata name=\"cmlm:insilico\" content=\"Molpro\"/>\\n  </stm:metadataList>\\n  <platform>\\n   <version major=\"2022\" minor=\"2\" SHA=\"51306cdc306ce2a111a2867affebcb289530e0a7\"\\n     integer_bits=\"64\" parallelism=\"serial\">\\n    2022.2\\n    <date year=\"2022\" month=\"10\" day=\"13\" hour=\"17\" minute=\"50\" second=\"36\">\\n     2022-10-13T17:50:36\\n    </date>\\n   </version>\\n   <licence id=\"cardiff\"/>\\n   <parallel processes=\"1\" nodes=\"1\" all_processes=\"1\" openmp=\"1\"/>\\n   <dimensions natom=\"400\" nvalence=\"500\" nvalence_pno=\"1000\" nbasis=\"12000\" nstate=\"100\"\\n     nsymm=\"16\" nrec=\"512\" nprim=\"2\" ncol=\"100\"/>\\n  </platform>\\n  <input>\\n   <p>geometry={he}</p>\\n   <p>basis = cc-pVTZ</p>\\n   <p>rhf;ccsd</p>\\n  </input>\\n  <diagnostics warnings=\"0\"/>\\n </job>\\n</molpro>\\n'"
      ]
     },
     "execution_count": 7,
     "metadata": {},
     "output_type": "execute_result"
    }
   ],
   "source": [
    "p.xml"
   ]
  }
 ],
 "metadata": {
  "kernelspec": {
   "display_name": "Python [conda env:persistent] *",
   "language": "python",
   "name": "conda-env-persistent-py"
  },
  "language_info": {
   "codemirror_mode": {
    "name": "ipython",
    "version": 3
   },
   "file_extension": ".py",
   "mimetype": "text/x-python",
   "name": "python",
   "nbconvert_exporter": "python",
   "pygments_lexer": "ipython3",
   "version": "3.10.6"
  }
 },
 "nbformat": 4,
 "nbformat_minor": 5
}
