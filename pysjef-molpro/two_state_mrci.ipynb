{
 "cells": [
  {
   "cell_type": "code",
   "execution_count": 1,
   "metadata": {
    "tags": []
   },
   "outputs": [],
   "source": [
    "from pysjef import Project, DirectoryNode, all_completed\n",
    "from pysjef_molpro import no_errors\n",
    "import numpy"
   ]
  },
  {
   "cell_type": "code",
   "execution_count": 2,
   "metadata": {
    "tags": []
   },
   "outputs": [],
   "source": [
    "root = DirectoryNode('dihedral_scan')"
   ]
  },
  {
   "cell_type": "code",
   "execution_count": null,
   "metadata": {
    "scrolled": true,
    "tags": []
   },
   "outputs": [],
   "source": [
    "grid = numpy.linspace(0, 90, 18, endpoint=False)\n",
    "for i, D in enumerate(grid):\n",
    "    p = root.add_child(f'd{i}', suffix='molpro')\n",
    "    p.write_input(\n",
    "    f\"\"\"geometry={{\n",
    "        H1\n",
    "        C1 H1 rch\n",
    "        C2 C1 rcc H1 A\n",
    "        H2 C2 rch C1 A H1 D\n",
    "        H3 C2 rch C1 A H2 180\n",
    "        H4 C1 rch C2 A H1 180}}\n",
    "    rch = 2.05; rcc = 2.65; A = 121.5; D ={D}+.01;\n",
    "    basis = cc-pVTZ\n",
    "    rhf\n",
    "    set, mcocc=[3,2,2,2], mcclosed=[3,1,1,2], mcsym=1\n",
    "    casscf,so_sci\n",
    "    {{optg; inactive, D}}\n",
    "    set,mcsym=[1,4]\n",
    "    casscf,so_sci\n",
    "    {{mrci; wf, sym=1;}}\n",
    "    {{mrci; wf, sym=4;}}\"\"\")"
   ]
  },
  {
   "cell_type": "code",
   "execution_count": null,
   "metadata": {},
   "outputs": [],
   "source": [
    "from multiprocessing.dummy import Pool\n",
    "from operator import methodcaller\n",
    "with Pool(processes=2) as pool:\n",
    "    pool.map(methodcaller('run', backend='marat', wait=True),\n",
    "             root.children, 1)\n",
    "print('all completed', all_completed(root.children))\n",
    "print('without errors', no_errors(root.children))"
   ]
  },
  {
   "cell_type": "code",
   "execution_count": null,
   "metadata": {
    "tags": []
   },
   "outputs": [],
   "source": [
    "import matplotlib.pyplot as plt\n",
    "%matplotlib inline\n",
    "energies = root.select(\n",
    "    '//jobstep[command=MRCI]/property[name=Energy].value')\n",
    "e1, e2 = energies[::2], energies[1::2]\n",
    "cc = root.select('//variable[name=rcc]/value..')\n",
    "plt.plot(grid, e1, grid, e2)\n",
    "plt.legend([r'$X\\;{}^1A_1$',r'$V\\;{}^1B_1$'])\n",
    "plt.xlabel('HCCH dihedral angle (degrees)')\n",
    "plt.ylabel(r'Energy $(E_h)$')\n",
    "plt.show()"
   ]
  },
  {
   "cell_type": "code",
   "execution_count": null,
   "metadata": {},
   "outputs": [],
   "source": []
  }
 ],
 "metadata": {
  "kernelspec": {
   "display_name": "Python [conda env:persistent] *",
   "language": "python",
   "name": "conda-env-persistent-py"
  },
  "language_info": {
   "codemirror_mode": {
    "name": "ipython",
    "version": 3
   },
   "file_extension": ".py",
   "mimetype": "text/x-python",
   "name": "python",
   "nbconvert_exporter": "python",
   "pygments_lexer": "ipython3",
   "version": "3.10.5"
  },
  "toc": {
   "base_numbering": 1,
   "nav_menu": {},
   "number_sections": true,
   "sideBar": true,
   "skip_h1_title": false,
   "title_cell": "Table of Contents",
   "title_sidebar": "Contents",
   "toc_cell": false,
   "toc_position": {},
   "toc_section_display": true,
   "toc_window_display": false
  },
  "varInspector": {
   "cols": {
    "lenName": 16,
    "lenType": 16,
    "lenVar": 40
   },
   "kernels_config": {
    "python": {
     "delete_cmd_postfix": "",
     "delete_cmd_prefix": "del ",
     "library": "var_list.py",
     "varRefreshCmd": "print(var_dic_list())"
    },
    "r": {
     "delete_cmd_postfix": ") ",
     "delete_cmd_prefix": "rm(",
     "library": "var_list.r",
     "varRefreshCmd": "cat(var_dic_list()) "
    }
   },
   "types_to_exclude": [
    "module",
    "function",
    "builtin_function_or_method",
    "instance",
    "_Feature"
   ],
   "window_display": false
  }
 },
 "nbformat": 4,
 "nbformat_minor": 4
}
